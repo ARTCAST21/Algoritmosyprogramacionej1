{
  "nbformat": 4,
  "nbformat_minor": 0,
  "metadata": {
    "colab": {
      "provenance": [],
      "include_colab_link": true
    },
    "kernelspec": {
      "name": "python3",
      "display_name": "Python 3"
    },
    "language_info": {
      "name": "python"
    }
  },
  "cells": [
    {
      "cell_type": "markdown",
      "metadata": {
        "id": "view-in-github",
        "colab_type": "text"
      },
      "source": [
        "<a href=\"https://colab.research.google.com/github/ARTCAST21/Algoritmosyprogramacionej1/blob/main/taller%203.ipynb\" target=\"_parent\"><img src=\"https://colab.research.google.com/assets/colab-badge.svg\" alt=\"Open In Colab\"/></a>"
      ]
    },
    {
      "cell_type": "code",
      "execution_count": null,
      "metadata": {
        "colab": {
          "base_uri": "https://localhost:8080/"
        },
        "id": "pRCK5ZFQDetq",
        "outputId": "36976d7c-d89c-4c58-f9a4-20b010e654e1"
      },
      "outputs": [
        {
          "output_type": "stream",
          "name": "stdout",
          "text": [
            "Ingrese el número entero 1: 3\n",
            "Ingrese el número entero 2: 2\n",
            "Ingrese el número entero 3: 3\n",
            "Ingrese el número entero 4: 5\n",
            "Ingrese el número entero 5: 7\n",
            "Ingrese el número entero 6: 8\n",
            "Sumatoria de los números negativos: 0\n",
            "Promedio de los números positivos: 4.666666666666667\n"
          ]
        }
      ],
      "source": [
        "def main():\n",
        "    # las variables para los cálculos\n",
        "    numeros = []\n",
        "    suma_negativos = 0\n",
        "    suma_positivos = 0\n",
        "    contador_positivos = 0\n",
        "\n",
        "    # Pedimos al usuario que ingrese 6 números enteros\n",
        "    for i in range(6):\n",
        "        while True:\n",
        "            try:\n",
        "                numero = int(input(f\"Ingrese el número entero {i + 1}: \"))\n",
        "                numeros.append(numero)\n",
        "                break\n",
        "            except ValueError:\n",
        "                print(\"Por favor ingrese un número entero.\")\n",
        "\n",
        "    # Calculamos la sumatoria de los números negativos y el promedio.\n",
        "    for numero in numeros:\n",
        "        if numero < 0:\n",
        "            suma_negativos += numero\n",
        "        else:\n",
        "            suma_positivos += numero\n",
        "            contador_positivos += 1\n",
        "\n",
        "    # Calculamos el promedio de los números positivos\n",
        "    if contador_positivos > 0:\n",
        "        promedio_positivos = suma_positivos / contador_positivos\n",
        "    else:\n",
        "        promedio_positivos = 0  # Si no hay números positivos, el promedio es 0\n",
        "\n",
        "    # Mostramos los resultados\n",
        "\n",
        "e\n",
        "\n",
        "    print(f\"Sumatoria de los números negativos: {suma_negativos}\")\n",
        "    print(f\"Promedio de los números positivos: {promedio_positivos}\")\n",
        "\n",
        "if __name__ == \"__main__\":\n",
        "    main()\n"
      ]
    },
    {
      "cell_type": "code",
      "source": [
        "def fibonacci(n):\n",
        "    a, b = 0, 1\n",
        "    for _ in range(n):\n",
        "        print(a, end=' ')\n",
        "        a, b = b, a + b\n",
        "    print()  #línea al final\n",
        "\n",
        "def factorial(n):\n",
        "    if n == 0 or n == 1:\n",
        "        return 1\n",
        "    return n * factorial(n - 1)\n",
        "\n",
        "def contar_vocales(frase):\n",
        "    vocales = 'aeiouAEIOU'\n",
        "    conteo = {v: 0 for v in vocales}\n",
        "\n",
        "    for char in frase:\n",
        "        if char in conteo:\n",
        "            conteo[char] += 1\n",
        "\n",
        "    return sum(conteo.values())\n",
        "\n",
        "# 10 números de la sucesión de Fibonacci\n",
        "print(\"10 números de la sucesión de Fibonacci:\")\n",
        "fibonacci(10)\n",
        "\n",
        "# calcular su factorial\n",
        "while True:\n",
        "    try:\n",
        "        numero = int(input(\"Ingrese un número entero positivo para calcular su factorial: \"))\n",
        "        if numero < 0:\n",
        "            print(\"Por favor, ingrese un número entero positivo.\")\n",
        "        else:\n",
        "            print(f\"El factorial de {numero} es: {factorial(numero)}\")\n",
        "            break\n",
        "    except ValueError:\n",
        "        print(\"Entrada no válida. Por favor ingrese un número entero.\")\n",
        "\n",
        "# ingrese una frase para contar las vocales\n",
        "frase = input(\"Ingrese una frase para contar las vocales: \")\n",
        "print(f\"La cantidad de vocales en la frase es: {contar_vocales(frase)}\")\n",
        "\n",
        "\n",
        "\n",
        "\n",
        "\n",
        "\n"
      ],
      "metadata": {
        "id": "DzTZFUgAGshw"
      },
      "execution_count": null,
      "outputs": []
    },
    {
      "cell_type": "code",
      "source": [
        "#Ejercicios\n",
        "#Baraja\n",
        "diamantes=['A', 1,2,3,4,5,6,7,8,9,10,'J','Q','K']\n",
        "Picas=['A', 1,2,3,4,5,6,7,8,9,10,'J','Q','K']\n",
        "Treboles=['A', 1,2,3,4,5,6,7,8,9,10,'J','Q','K']\n",
        "corazones=['A', 1,2,3,4,5,6,7,8,9,10,'J','Q','K']"
      ],
      "metadata": {
        "id": "QwHk9ZyXPLbW"
      },
      "execution_count": null,
      "outputs": []
    },
    {
      "cell_type": "code",
      "source": [
        "poker=[]\n",
        "escoger=random.randint(0,12)\n",
        "poker.append(diamantes[escoger])\n",
        "escoger=random.randint(0,12)\n",
        "poker.append(Picas[escoger])\n",
        "escoger=random.randint(0,12)\n",
        "poker.append(Treboles[escoger])\n",
        "escoger=random.randint(0,12)\n",
        "poker.append(corazones[escoger])\n",
        "print(poker)\n",
        "escoger=random.randint(0,12)\n",
        "poker.append(diamantes[escoger])\n",
        "print(poker)"
      ],
      "metadata": {
        "id": "aonpEKwzPXYN"
      },
      "execution_count": null,
      "outputs": []
    },
    {
      "cell_type": "markdown",
      "source": [
        "Ejercicios con vectores"
      ],
      "metadata": {
        "id": "NSOa3UI9ZP2k"
      }
    },
    {
      "cell_type": "code",
      "source": [
        "import numpy as np\n",
        "\n",
        "# Función para calcular el producto escalar de dos vectores\n",
        "def producto_escalar(v1, v2):\n",
        "    \"'Calcula el producto escalar de dos vectores.'\"\n",
        "    return np.dot(v1, v2)\n",
        "\n",
        "# Función para verificar si dos vectores son ortogonales\n",
        "def son_ortogonales(v1, v2, epsilon=1e-10):\n",
        "    return np.abs(np.dot(v1, v2)) < epsilon\n",
        "\n",
        "# Función para verificar si dos vectores son paralelos\n",
        "def son_paralelos(v1, v2):\n",
        "    if np.all(v1 == 0) or np.all(v2 == 0):\n",
        "        return False  # si alguno de los vectores es 0 no son paralelos\n",
        "    norm_v1 = np.linalg.norm(v1)\n",
        "    norm_v2 = np.linalg.norm(v2)\n",
        "    if norm_v1 == 0 or norm_v2 == 0:\n",
        "        return False\n",
        "  return np.isclose(v1 / norm_v1, v2 / norm_v2).all()\n",
        "\n",
        "# Función para calcular la norma de un vector\n",
        "def norma(v):\n",
        "    return np.linalg.norm(v)\n",
        "\n",
        "# Ejemplo de uso\n",
        "vectores = [(np.array([1, 2, 3]), np.array([4, 5, 6])),\n",
        "            (np.array([1, 2, 3]), np.array([-2, 1, 0])),\n",
        "            (np.array([2, 4, 6]), np.array([1, 2, 3]))]\n",
        "\n",
        "resultados = []\n",
        "\n",
        "for v1, v2 in vectores:\n",
        "    producto = producto_escalar(v1, v2)\n",
        "    ortogonales = son_ortogonales(v1, v2)\n",
        "    paralelos = son_paralelos(v1, v2)\n",
        "    norma_v1 = norma(v1)\n",
        "    norma_v2 = norma(v2)\n",
        "\n",
        "resultados = ()\n",
        "    (producto_escalar(v1, v2), son_ortogonales(v1, v2), son_paralelos(v1, v2), norma(v1), norma(v2))\n",
        "resultados"
      ],
      "metadata": {
        "id": "Lf2UG_tePZHF"
      },
      "execution_count": null,
      "outputs": []
    }
  ]
}