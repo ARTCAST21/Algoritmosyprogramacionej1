{
  "nbformat": 4,
  "nbformat_minor": 0,
  "metadata": {
    "colab": {
      "provenance": [],
      "include_colab_link": true
    },
    "kernelspec": {
      "name": "python3",
      "display_name": "Python 3"
    },
    "language_info": {
      "name": "python"
    }
  },
  "cells": [
    {
      "cell_type": "markdown",
      "metadata": {
        "id": "view-in-github",
        "colab_type": "text"
      },
      "source": [
        "<a href=\"https://colab.research.google.com/github/ARTCAST21/Algoritmosyprogramacionej1/blob/main/Untitled2.ipynb\" target=\"_parent\"><img src=\"https://colab.research.google.com/assets/colab-badge.svg\" alt=\"Open In Colab\"/></a>"
      ]
    },
    {
      "cell_type": "code",
      "source": [
        "#solicitar la edad del usuario\n",
        "edad=int(input(\"introduce tu edad: \"))\n",
        "# verificar si es mayor de edad\n",
        "if edad >=16:\n",
        "  print(\"es mayor de edad\")\n",
        "else:\n",
        "  print(\"no es mayor de edad\")"
      ],
      "metadata": {
        "colab": {
          "base_uri": "https://localhost:8080/"
        },
        "id": "SGlKjhEVES2k",
        "outputId": "b6bac8a0-8d68-4060-d522-0450679c5967"
      },
      "execution_count": null,
      "outputs": [
        {
          "output_type": "stream",
          "name": "stdout",
          "text": [
            "introduce tu edad: 17\n",
            "no es mayor de edad\n"
          ]
        }
      ]
    },
    {
      "cell_type": "code",
      "source": [
        "#almacenar la contraseña en una variable\n",
        "contraseña_guardada=\"mi contraseña\"\n",
        "#introdcuzca contraseña\n",
        "contraseña_usuario = input(\"introduce contraseña:\")\n",
        "\n",
        "if contraseña_guardada.lower()== contraseña_usuario.lower():\n",
        "  print(\"la contraseña es correcta.\")\n",
        "else:\n",
        "  print(\"la contraseña es incorrecta.\")\n",
        "\n"
      ],
      "metadata": {
        "colab": {
          "base_uri": "https://localhost:8080/"
        },
        "id": "aSk7evKnM--c",
        "outputId": "97597586-3bfe-4fd3-df10-f84a660fa76f"
      },
      "execution_count": null,
      "outputs": [
        {
          "output_type": "stream",
          "name": "stdout",
          "text": [
            "introduce contraseña:mi contraseña\n",
            "la contraseña es correcta.\n"
          ]
        }
      ]
    },
    {
      "cell_type": "code",
      "source": [],
      "metadata": {
        "id": "OQHH7YyMTbdK"
      },
      "execution_count": null,
      "outputs": []
    },
    {
      "cell_type": "code",
      "source": [],
      "metadata": {
        "id": "iG2wwig0Q_Kj"
      },
      "execution_count": null,
      "outputs": []
    },
    {
      "cell_type": "code",
      "source": [
        "edad=(int(input(\"Ingrese su edad \")))\n",
        "ingresos=(float(input(\"Ingrese sus ingresos mensuales \")))\n",
        "\n",
        "if edad <=16 and ingresos <=1000:\n",
        "  print(\"no tiene que tributar \")\n",
        "\n",
        "else:\n",
        "  print(\"si tiene que tributar \")"
      ],
      "metadata": {
        "colab": {
          "base_uri": "https://localhost:8080/"
        },
        "id": "mi9UhHWyTc-I",
        "outputId": "2f312980-4c6e-41b3-da04-744b94bc5c7b"
      },
      "execution_count": null,
      "outputs": [
        {
          "output_type": "stream",
          "name": "stdout",
          "text": [
            "Ingrese su edad 16\n",
            "Ingrese sus ingresos mensuales 10000\n",
            "si tiene que tributar \n"
          ]
        }
      ]
    },
    {
      "cell_type": "code",
      "source": [
        "sexo=(str(input(\"Ingrese su sexo \")))\n",
        "nombre=(str(input(\"ingrese su nombre \")))\n",
        "\n",
        "if (nombre[0]==\"A\")or (nombre[0]==\"B\")or (nombre[0]==\"C\")or (nombre[0]==\"D\")or (nombre[0]==\"E\")or (nombre[0]==\"F\")or (nombre[0]==\"G\")or (nombre[0]==\"H\")or (nombre[0]==\"I\")or (nombre[0]==\"J\")or (nombre[0]==\"K\")or (nombre[0]==\"L\"):\n",
        "  print(\"Pertenece al grupo A \")\n",
        "\n",
        "else:\n",
        "  print(\"Perteneces al grupo B \")sexo=(str(input(\"Ingrese su sexo \")))\n",
        "nombre=(str(input(\"ingrese su nombre \")))\n",
        "\n",
        "if (nombre[0]==\"A\")or (nombre[0]==\"B\")or (nombre[0]==\"C\")or (nombre[0]==\"D\")or (nombre[0]==\"E\")or (nombre[0]==\"F\")or (nombre[0]==\"G\")or (nombre[0]==\"H\")or (nombre[0]==\"I\")or (nombre[0]==\"J\")or (nombre[0]==\"K\")or (nombre[0]==\"L\"):\n",
        "  print(\"Pertenece al grupo A \")\n",
        "\n",
        "else:\n",
        "  print(\"Perteneces al grupo B \")"
      ],
      "metadata": {
        "colab": {
          "base_uri": "https://localhost:8080/"
        },
        "id": "-BgFPOOzTdXf",
        "outputId": "a14821b5-8e91-4daf-df6e-0e86598df721"
      },
      "execution_count": null,
      "outputs": [
        {
          "output_type": "stream",
          "name": "stdout",
          "text": [
            "Ingrese su sexo Masculino \n",
            "ingrese su nombre Nicolas \n",
            "Perteneces al grupo B \n"
          ]
        }
      ]
    }
  ]
}