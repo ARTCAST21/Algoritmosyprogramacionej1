{
  "nbformat": 4,
  "nbformat_minor": 0,
  "metadata": {
    "colab": {
      "provenance": [],
      "include_colab_link": true
    },
    "kernelspec": {
      "name": "python3",
      "display_name": "Python 3"
    },
    "language_info": {
      "name": "python"
    }
  },
  "cells": [
    {
      "cell_type": "markdown",
      "metadata": {
        "id": "view-in-github",
        "colab_type": "text"
      },
      "source": [
        "<a href=\"https://colab.research.google.com/github/ARTCAST21/Algoritmosyprogramacionej1/blob/main/AL_PO_EAN_2024_2.ipynb\" target=\"_parent\"><img src=\"https://colab.research.google.com/assets/colab-badge.svg\" alt=\"Open In Colab\"/></a>"
      ]
    },
    {
      "cell_type": "markdown",
      "source": [
        "# Curso de Algoritmos y Programación 2024_1"
      ],
      "metadata": {
        "id": "3HO8HC07-mf7"
      }
    },
    {
      "cell_type": "code",
      "execution_count": null,
      "metadata": {
        "colab": {
          "base_uri": "https://localhost:8080/"
        },
        "id": "NBr7_Wi9-ORS",
        "outputId": "15380485-98f7-4cf5-fbd3-c468f5b24fb5"
      },
      "outputs": [
        {
          "output_type": "stream",
          "name": "stdout",
          "text": [
            "Hola Mundo\n"
          ]
        }
      ],
      "source": [
        "print('Hola Mundo')"
      ]
    },
    {
      "cell_type": "code",
      "source": [
        "#Tipos de datos\n",
        "var1=2\n",
        "var2=2.5\n",
        "var3='Hola'\n",
        "var4=True"
      ],
      "metadata": {
        "id": "q1e8QSFU_-tU"
      },
      "execution_count": null,
      "outputs": []
    },
    {
      "cell_type": "code",
      "source": [
        "print('El tipo de datos ', var1, ' es ', type(var1))\n",
        "print('El tipo de datos ', var2, ' es ', type(var2))\n",
        "print('El tipo de datos ', var3, ' es ', type(var3))\n",
        "print('El tipo de datos ', var4, ' es ', type(var4))"
      ],
      "metadata": {
        "colab": {
          "base_uri": "https://localhost:8080/"
        },
        "id": "zj77DjHtARcF",
        "outputId": "5195b8d3-ea52-462f-bb35-af71ef8cc614"
      },
      "execution_count": null,
      "outputs": [
        {
          "output_type": "stream",
          "name": "stdout",
          "text": [
            "El tipo de datos  2  es  <class 'int'>\n",
            "El tipo de datos  2.5  es  <class 'float'>\n",
            "El tipo de datos  Hola  es  <class 'str'>\n",
            "El tipo de datos  True  es  <class 'bool'>\n"
          ]
        }
      ]
    },
    {
      "cell_type": "code",
      "source": [
        "import math\n",
        "print(math.sqrt(2))\n"
      ],
      "metadata": {
        "colab": {
          "base_uri": "https://localhost:8080/"
        },
        "id": "MIxls_8MBckN",
        "outputId": "bc85931a-ec72-42b0-9551-bd766e88d43d"
      },
      "execution_count": null,
      "outputs": [
        {
          "output_type": "stream",
          "name": "stdout",
          "text": [
            "1.4142135623730951\n"
          ]
        }
      ]
    },
    {
      "cell_type": "code",
      "source": [
        "#Booleanos\n",
        "True or False"
      ],
      "metadata": {
        "colab": {
          "base_uri": "https://localhost:8080/"
        },
        "id": "vbES4ddcC478",
        "outputId": "a37b89de-7a4f-47a6-8f6a-6fbff4b7aea3"
      },
      "execution_count": null,
      "outputs": [
        {
          "output_type": "execute_result",
          "data": {
            "text/plain": [
              "True"
            ]
          },
          "metadata": {},
          "execution_count": 9
        }
      ]
    },
    {
      "cell_type": "code",
      "source": [
        "a='Hola '\n",
        "b='Mundo'\n",
        "print(a+b)"
      ],
      "metadata": {
        "colab": {
          "base_uri": "https://localhost:8080/"
        },
        "id": "NxOgR9-zDITz",
        "outputId": "4401fe3d-a99f-4be4-924e-0d56779b041c"
      },
      "execution_count": null,
      "outputs": [
        {
          "output_type": "stream",
          "name": "stdout",
          "text": [
            "Hola Mundo\n"
          ]
        }
      ]
    },
    {
      "cell_type": "code",
      "source": [
        "ord('@')"
      ],
      "metadata": {
        "colab": {
          "base_uri": "https://localhost:8080/"
        },
        "id": "VEAwgluuDbOx",
        "outputId": "83d4b0c0-998f-4168-8a89-a83f385059ae"
      },
      "execution_count": null,
      "outputs": [
        {
          "output_type": "execute_result",
          "data": {
            "text/plain": [
              "64"
            ]
          },
          "metadata": {},
          "execution_count": 13
        }
      ]
    },
    {
      "cell_type": "code",
      "source": [
        "a*5"
      ],
      "metadata": {
        "colab": {
          "base_uri": "https://localhost:8080/",
          "height": 35
        },
        "id": "QNdehumFDpsB",
        "outputId": "74a9f87c-08ac-4a10-ce3a-9c0369702eec"
      },
      "execution_count": null,
      "outputs": [
        {
          "output_type": "execute_result",
          "data": {
            "text/plain": [
              "'Hola Hola Hola Hola Hola '"
            ],
            "application/vnd.google.colaboratory.intrinsic+json": {
              "type": "string"
            }
          },
          "metadata": {},
          "execution_count": 14
        }
      ]
    },
    {
      "cell_type": "code",
      "source": [
        "#Ciclo\n",
        "cont=0\n",
        "suma=0\n",
        "while cont<101:\n",
        "    suma+=cont\n",
        "    cont+=1\n",
        "\n",
        "print('La suma de 1 a 100 es: ', suma)\n"
      ],
      "metadata": {
        "colab": {
          "base_uri": "https://localhost:8080/"
        },
        "id": "DoOBaUNWHg5t",
        "outputId": "92269005-3970-4273-9e3d-e939769eef7a"
      },
      "execution_count": null,
      "outputs": [
        {
          "output_type": "stream",
          "name": "stdout",
          "text": [
            "La suma de 1 a 100 es:  5050\n"
          ]
        }
      ]
    },
    {
      "cell_type": "code",
      "source": [
        "#Numero primo\n",
        "n=int(input('Ingrese el numero n: '))\n",
        "cont=1\n",
        "acum=0\n",
        "while acum<=n:\n",
        "    if n%cont==0:\n",
        "      cont+=1\n",
        "\n",
        "    acum+=1\n",
        "\n",
        "\n",
        "if cont == 2:\n",
        "    print('El numero ', n, ' es primo')\n",
        "else:\n",
        "    print('El numero ', n, ' no es primo')\n",
        "\n",
        "\n"
      ],
      "metadata": {
        "colab": {
          "base_uri": "https://localhost:8080/"
        },
        "id": "wAEYIbOcXHz5",
        "outputId": "a2fcdc0f-b0c2-442c-b7dd-e462983a349d"
      },
      "execution_count": null,
      "outputs": [
        {
          "output_type": "stream",
          "name": "stdout",
          "text": [
            "Ingrese el numero n: 11\n",
            "El numero  11  es primo\n"
          ]
        }
      ]
    },
    {
      "cell_type": "code",
      "source": [],
      "metadata": {
        "id": "7OKWuwyklr3a"
      },
      "execution_count": null,
      "outputs": []
    },
    {
      "cell_type": "markdown",
      "source": [],
      "metadata": {
        "id": "wN9EE7xwltx1"
      }
    },
    {
      "cell_type": "code",
      "source": [
        "print(n%1)\n",
        "print(n%2)\n",
        "print(n%3)\n",
        "print(n%4)"
      ],
      "metadata": {
        "colab": {
          "base_uri": "https://localhost:8080/"
        },
        "id": "Ki4DZhnJXrys",
        "outputId": "976c8f61-5a3e-479c-af83-2495c88b607b"
      },
      "execution_count": null,
      "outputs": [
        {
          "output_type": "stream",
          "name": "stdout",
          "text": [
            "0\n",
            "1\n",
            "1\n",
            "1\n"
          ]
        }
      ]
    },
    {
      "cell_type": "code",
      "source": [
        "num=0\n",
        "while num<=10:\n",
        "  print(num)\n",
        "  num+=1\n"
      ],
      "metadata": {
        "colab": {
          "base_uri": "https://localhost:8080/"
        },
        "id": "VirjWcAwbvxK",
        "outputId": "bf361f02-ff13-4902-a987-041d81fbd4a8"
      },
      "execution_count": null,
      "outputs": [
        {
          "output_type": "stream",
          "name": "stdout",
          "text": [
            "0\n",
            "1\n",
            "2\n",
            "3\n",
            "4\n",
            "5\n",
            "6\n",
            "7\n",
            "8\n",
            "9\n",
            "10\n"
          ]
        }
      ]
    },
    {
      "cell_type": "code",
      "source": [
        "2**3"
      ],
      "metadata": {
        "colab": {
          "base_uri": "https://localhost:8080/"
        },
        "id": "O4HFfJLdlu6f",
        "outputId": "9e41f953-f3ab-4608-c6f3-3d7f34da58a1"
      },
      "execution_count": null,
      "outputs": [
        {
          "output_type": "execute_result",
          "data": {
            "text/plain": [
              "8"
            ]
          },
          "metadata": {},
          "execution_count": 20
        }
      ]
    },
    {
      "cell_type": "code",
      "source": [
        "#Uso de librerias math\n",
        "import math\n",
        "a=90\n",
        "print(math.sin(math.pi/2))"
      ],
      "metadata": {
        "colab": {
          "base_uri": "https://localhost:8080/"
        },
        "id": "ZP0gjIRqorbF",
        "outputId": "d112fd1d-b592-4613-dc82-9cc17c79622c"
      },
      "execution_count": null,
      "outputs": [
        {
          "output_type": "stream",
          "name": "stdout",
          "text": [
            "1.0\n"
          ]
        }
      ]
    },
    {
      "cell_type": "code",
      "source": [
        "#Area del tringualo\n",
        "a=float(input('Ingrese el lado a: '))\n",
        "b=float(input('Ingrese el lado b: '))\n",
        "teta=float(input('Ingrese el angulo Theta: '))\n",
        "\n",
        "angulo=teta*math.pi/180\n",
        "area=(a*b*math.sin(angulo))/2\n",
        "\n",
        "print('El area del triangulo es: ', area)\n",
        "#"
      ],
      "metadata": {
        "colab": {
          "base_uri": "https://localhost:8080/"
        },
        "id": "lIpB8uxTqHr6",
        "outputId": "d1978a2f-624f-4bbe-f28a-6d67820bc2d9"
      },
      "execution_count": null,
      "outputs": [
        {
          "output_type": "stream",
          "name": "stdout",
          "text": [
            "Ingrese el lado a: 1\n",
            "Ingrese el lado b: 2\n",
            "Ingrese el angulo Theta: 30\n",
            "El area del triangulo es:  0.49999999999999994\n"
          ]
        }
      ]
    },
    {
      "cell_type": "markdown",
      "source": [
        "# Listas y Tuplas"
      ],
      "metadata": {
        "id": "ILXVqYi0tiTk"
      }
    },
    {
      "cell_type": "code",
      "source": [
        "l=[]\n",
        "print(type(l))"
      ],
      "metadata": {
        "colab": {
          "base_uri": "https://localhost:8080/"
        },
        "id": "ymKlkmvztkOg",
        "outputId": "57566811-69dc-440e-c894-d882ba4701e1"
      },
      "execution_count": null,
      "outputs": [
        {
          "output_type": "stream",
          "name": "stdout",
          "text": [
            "<class 'list'>\n"
          ]
        }
      ]
    },
    {
      "cell_type": "code",
      "source": [
        "l=[1,2.2,'Hola',[4,5], True]\n",
        "print(l)"
      ],
      "metadata": {
        "colab": {
          "base_uri": "https://localhost:8080/"
        },
        "id": "IawLpGmYtrwB",
        "outputId": "5050710e-22cf-4774-cdd5-39ecaa1d9034"
      },
      "execution_count": null,
      "outputs": [
        {
          "output_type": "stream",
          "name": "stdout",
          "text": [
            "[1, 2.2, 'Hola', [4, 5], True]\n"
          ]
        }
      ]
    },
    {
      "cell_type": "code",
      "source": [
        "print(len(l))"
      ],
      "metadata": {
        "colab": {
          "base_uri": "https://localhost:8080/"
        },
        "id": "o52NRzTetxrr",
        "outputId": "7b3fe4e8-dba3-42da-bc9d-5ec11179c205"
      },
      "execution_count": null,
      "outputs": [
        {
          "output_type": "stream",
          "name": "stdout",
          "text": [
            "5\n"
          ]
        }
      ]
    },
    {
      "cell_type": "code",
      "source": [
        "print(l[4])"
      ],
      "metadata": {
        "colab": {
          "base_uri": "https://localhost:8080/"
        },
        "id": "k5kqObBot4bw",
        "outputId": "dad6351c-0a59-41c9-e7d7-6ddbea8d5a9e"
      },
      "execution_count": null,
      "outputs": [
        {
          "output_type": "stream",
          "name": "stdout",
          "text": [
            "True\n"
          ]
        }
      ]
    },
    {
      "cell_type": "code",
      "source": [
        "print(l)\n",
        "l[0]='STR'\n",
        "print(l)"
      ],
      "metadata": {
        "colab": {
          "base_uri": "https://localhost:8080/"
        },
        "id": "KLP2_Rp7t9vG",
        "outputId": "7293be8d-2d40-41d4-d550-4dcc2ec42fd7"
      },
      "execution_count": null,
      "outputs": [
        {
          "output_type": "stream",
          "name": "stdout",
          "text": [
            "[1, 2.2, 'Hola', [4, 5], True]\n",
            "['STR', 2.2, 'Hola', [4, 5], True]\n"
          ]
        }
      ]
    },
    {
      "cell_type": "code",
      "source": [
        "l.append('Nuevo')\n",
        "print(l)"
      ],
      "metadata": {
        "colab": {
          "base_uri": "https://localhost:8080/"
        },
        "id": "bR1Qyvh2uIMU",
        "outputId": "dd25bce0-55af-4bcd-ebcd-af760dee5438"
      },
      "execution_count": null,
      "outputs": [
        {
          "output_type": "stream",
          "name": "stdout",
          "text": [
            "['STR', 2.2, 'Hola', [4, 5], True, 'Nuevo']\n"
          ]
        }
      ]
    },
    {
      "cell_type": "code",
      "source": [
        "#Grafica Sin(x)\n",
        "import math\n",
        "import matplotlib.pyplot as plt\n",
        "dom=[-6,-5,-4,-3,-2,-1,0,1,2,3,4,5,6]\n",
        "ran=[math.sin(-6), math.sin(-5),math.sin(-4), math.sin(-3), math.sin(-2), math.sin(-1), math.sin(0), math.sin(-1), math.sin(2), math.sin(3), math.sin(4), math.sin(5), math.sin(6)]\n",
        "print(dom)\n",
        "print(ran)\n",
        "plt.plot(dom,ran)\n",
        "plt.show()"
      ],
      "metadata": {
        "colab": {
          "base_uri": "https://localhost:8080/",
          "height": 485
        },
        "id": "pJAMBuLxuvyP",
        "outputId": "ce5138cc-d8d1-43cf-a307-2628378b2dd0"
      },
      "execution_count": null,
      "outputs": [
        {
          "output_type": "stream",
          "name": "stdout",
          "text": [
            "[-6, -5, -4, -3, -2, -1, 0, 1, 2, 3, 4, 5, 6]\n",
            "[0.27941549819892586, 0.9589242746631385, 0.7568024953079282, -0.1411200080598672, -0.9092974268256817, -0.8414709848078965, 0.0, -0.8414709848078965, 0.9092974268256817, 0.1411200080598672, -0.7568024953079282, -0.9589242746631385, -0.27941549819892586]\n"
          ]
        },
        {
          "output_type": "display_data",
          "data": {
            "text/plain": [
              "<Figure size 640x480 with 1 Axes>"
            ],
            "image/png": "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\n"
          },
          "metadata": {}
        }
      ]
    },
    {
      "cell_type": "code",
      "source": [
        "print(l)\n",
        "for i in l:\n",
        "    print(i)"
      ],
      "metadata": {
        "colab": {
          "base_uri": "https://localhost:8080/"
        },
        "id": "tcjiE9tQwd1p",
        "outputId": "ec3f0378-7559-4be4-a12f-b6c8e26530e9"
      },
      "execution_count": null,
      "outputs": [
        {
          "output_type": "stream",
          "name": "stdout",
          "text": [
            "['STR', 2.2, 'Hola', [4, 5], True, 'Nuevo']\n",
            "STR\n",
            "2.2\n",
            "Hola\n",
            "[4, 5]\n",
            "True\n",
            "Nuevo\n"
          ]
        }
      ]
    },
    {
      "cell_type": "code",
      "source": [
        "for i in dom:\n",
        "    print(i)"
      ],
      "metadata": {
        "colab": {
          "base_uri": "https://localhost:8080/"
        },
        "id": "cERAOQyew2SL",
        "outputId": "6d2d389a-303f-43c9-fe7b-af334745f70e"
      },
      "execution_count": null,
      "outputs": [
        {
          "output_type": "stream",
          "name": "stdout",
          "text": [
            "-6\n",
            "-5\n",
            "-4\n",
            "-3\n",
            "-2\n",
            "-1\n",
            "0\n",
            "1\n",
            "2\n",
            "3\n",
            "4\n",
            "5\n",
            "6\n"
          ]
        }
      ]
    },
    {
      "cell_type": "code",
      "source": [
        "#Range\n",
        "for i in range(11):\n",
        "    print(i)"
      ],
      "metadata": {
        "colab": {
          "base_uri": "https://localhost:8080/"
        },
        "id": "kHGTdCRexCJy",
        "outputId": "902a7ea6-30d3-40d5-c37c-a6b24a56261e"
      },
      "execution_count": null,
      "outputs": [
        {
          "output_type": "stream",
          "name": "stdout",
          "text": [
            "0\n",
            "1\n",
            "2\n",
            "3\n",
            "4\n",
            "5\n",
            "6\n",
            "7\n",
            "8\n",
            "9\n",
            "10\n"
          ]
        }
      ]
    },
    {
      "cell_type": "code",
      "source": [
        "for i in range(1,101, 3):\n",
        "    print(i)"
      ],
      "metadata": {
        "id": "NzyCUkaSxSG2"
      },
      "execution_count": null,
      "outputs": []
    },
    {
      "cell_type": "code",
      "source": [
        "#Grafica del Sin(x)\n",
        "y=[]\n",
        "for i in dom:\n",
        "    y.append(math.sin(i))\n",
        "print(y)\n",
        "plt.plot(dom,y)\n",
        "plt.show()"
      ],
      "metadata": {
        "colab": {
          "base_uri": "https://localhost:8080/",
          "height": 467
        },
        "id": "r4YjfO3ixoX-",
        "outputId": "fe621dfd-d001-4eac-cc33-9d75c1726b3b"
      },
      "execution_count": null,
      "outputs": [
        {
          "output_type": "stream",
          "name": "stdout",
          "text": [
            "[0.27941549819892586, 0.9589242746631385, 0.7568024953079282, -0.1411200080598672, -0.9092974268256817, -0.8414709848078965, 0.0, 0.8414709848078965, 0.9092974268256817, 0.1411200080598672, -0.7568024953079282, -0.9589242746631385, -0.27941549819892586]\n"
          ]
        },
        {
          "output_type": "display_data",
          "data": {
            "text/plain": [
              "<Figure size 640x480 with 1 Axes>"
            ],
            "image/png": "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\n"
          },
          "metadata": {}
        }
      ]
    },
    {
      "cell_type": "code",
      "source": [
        "#WHILE\n",
        "x=[]\n",
        "y=[]\n",
        "i=-6\n",
        "while i<=6:\n",
        "    x.append(i)\n",
        "    y.append(math.sin(i))\n",
        "    i+=0.1\n",
        "\n",
        "\n",
        "plt.plot(x,y)\n",
        "plt.show()\n",
        "\n"
      ],
      "metadata": {
        "colab": {
          "base_uri": "https://localhost:8080/",
          "height": 430
        },
        "id": "IcebD5JYyPf1",
        "outputId": "d2901d22-c428-4115-9d25-63b34d744f9d"
      },
      "execution_count": null,
      "outputs": [
        {
          "output_type": "display_data",
          "data": {
            "text/plain": [
              "<Figure size 640x480 with 1 Axes>"
            ],
            "image/png": "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\n"
          },
          "metadata": {}
        }
      ]
    },
    {
      "cell_type": "code",
      "source": [
        "print(len(x))\n",
        "print(len(y))"
      ],
      "metadata": {
        "colab": {
          "base_uri": "https://localhost:8080/"
        },
        "id": "oVqO0XiqykIl",
        "outputId": "80294932-d2df-45c4-d92e-6915b044db09"
      },
      "execution_count": null,
      "outputs": [
        {
          "output_type": "stream",
          "name": "stdout",
          "text": [
            "121\n",
            "121\n"
          ]
        }
      ]
    },
    {
      "cell_type": "code",
      "source": [
        "#Ejercicios\n",
        "#Baraja\n",
        "diamantes=['A', 1,2,3,4,5,6,7,8,9,10,'J','Q','K']\n",
        "Picas=['A', 1,2,3,4,5,6,7,8,9,10,'J','Q','K']\n",
        "Treboles=['A', 1,2,3,4,5,6,7,8,9,10,'J','Q','K']\n",
        "corazones=['A', 1,2,3,4,5,6,7,8,9,10,'J','Q','K']\n",
        "\n",
        "\n"
      ],
      "metadata": {
        "id": "keX4PitdzpDF"
      },
      "execution_count": null,
      "outputs": []
    },
    {
      "cell_type": "code",
      "source": [
        "import random\n",
        "print(random.random())\n",
        "print(random.randint(1,25))\n",
        "\n"
      ],
      "metadata": {
        "colab": {
          "base_uri": "https://localhost:8080/"
        },
        "id": "VE6MPAax0lKS",
        "outputId": "35aa1f39-6fec-40a8-f82f-b5985b26c225"
      },
      "execution_count": null,
      "outputs": [
        {
          "output_type": "stream",
          "name": "stdout",
          "text": [
            "0.8611451762514569\n",
            "5\n"
          ]
        }
      ]
    },
    {
      "cell_type": "code",
      "source": [
        "poker=[]\n",
        "escoger=random.randint(0,12)\n",
        "poker.append(diamantes[escoger])\n",
        "escoger=random.randint(0,12)\n",
        "poker.append(Picas[escoger])\n",
        "escoger=random.randint(0,12)\n",
        "poker.append(Treboles[escoger])\n",
        "escoger=random.randint(0,12)\n",
        "poker.append(corazones[escoger])\n",
        "print(poker)\n",
        "escoger=random.randint(0,12)\n",
        "poker.append(diamantes[escoger])\n",
        "print(poker)\n",
        "\n",
        "\n"
      ],
      "metadata": {
        "colab": {
          "base_uri": "https://localhost:8080/"
        },
        "id": "FyfiRDII1pOy",
        "outputId": "68d6064f-da90-4ce9-ed55-6e1c2967ffff"
      },
      "execution_count": null,
      "outputs": [
        {
          "output_type": "stream",
          "name": "stdout",
          "text": [
            "[7, 9, 'J', 8]\n",
            "[7, 9, 'J', 8, 'J']\n"
          ]
        }
      ]
    },
    {
      "cell_type": "code",
      "source": [
        "#Tuplas\n",
        "T=(1,2.3, 'Hola', True, [1,2,3])\n",
        "print(T)"
      ],
      "metadata": {
        "colab": {
          "base_uri": "https://localhost:8080/"
        },
        "id": "0EBlBShu4CKu",
        "outputId": "4ae757f0-333a-4c03-b178-58fb12764893"
      },
      "execution_count": null,
      "outputs": [
        {
          "output_type": "stream",
          "name": "stdout",
          "text": [
            "(1, 2.3, 'Hola', True, [1, 2, 3])\n"
          ]
        }
      ]
    },
    {
      "cell_type": "code",
      "source": [
        "print(type(T))"
      ],
      "metadata": {
        "colab": {
          "base_uri": "https://localhost:8080/"
        },
        "id": "E-O9ZB484K72",
        "outputId": "5f5c7995-c22e-4ffd-fd15-8758140bc086"
      },
      "execution_count": null,
      "outputs": [
        {
          "output_type": "stream",
          "name": "stdout",
          "text": [
            "<class 'tuple'>\n"
          ]
        }
      ]
    },
    {
      "cell_type": "code",
      "source": [
        "print(T[0]*3)"
      ],
      "metadata": {
        "colab": {
          "base_uri": "https://localhost:8080/"
        },
        "id": "EvdlN3Sc4OGd",
        "outputId": "b43191de-a202-4b63-ec6e-cd914b792d54"
      },
      "execution_count": null,
      "outputs": [
        {
          "output_type": "stream",
          "name": "stdout",
          "text": [
            "3\n"
          ]
        }
      ]
    },
    {
      "cell_type": "markdown",
      "source": [
        "*texto en cursiva*# reto 1 /operaciones aritmeticas\n",
        "reto 2/ listas y conteos\n",
        "reto 3 / ciclos y listas"
      ],
      "metadata": {
        "id": "xZlpwkZY91kU"
      }
    },
    {
      "cell_type": "code",
      "source": [
        "a,b,c=input().split()\n",
        "\n",
        "salario_base=float(a)\n",
        "horaextra=int(b)\n",
        "bonificaciones=int(c)\n",
        "\n",
        "\n",
        "# Calculando el valor de una hora normal\n",
        "valor_horas_normales_del_salario = salario_base / 192\n",
        "\n",
        "# Calculando el valor de las horas extras\n",
        "valor_horas_extras = horaextra*valor_horas_normales_del_salario* 1.25\n",
        "\n",
        "# Calculando las bonificaciones\n",
        "bonificaciones = salario_base * 0.05 if bonificaciones == 1 else 0\n",
        "\n",
        "# Calculando el salario total antes de descuentos\n",
        "salario_total_ante_descuentos = salario_base + valor_horas_extras + bonificaciones\n",
        "\n",
        "# Calculando los descuentos\n",
        "descuento_salud = salario_total_ante_descuentos * 0.035\n",
        "descuento_pension = salario_total_ante_descuentos * 0.04\n",
        "descuento_caja = salario_total_ante_descuentos * 0.01\n",
        "\n",
        "# Calculando el salario neto después de los descuentos\n",
        "salario_neto = salario_total_ante_descuentos - (descuento_salud + descuento_pension + descuento_caja)\n",
        "\n",
        "# Imprimir el salario neto con un número decimal\n",
        "print(f\"{salario_neto:.1f}\")\n"
      ],
      "metadata": {
        "id": "jlBWt56E93BL",
        "colab": {
          "base_uri": "https://localhost:8080/"
        },
        "outputId": "71a75752-986f-4302-884a-ec6874512902"
      },
      "execution_count": null,
      "outputs": [
        {
          "output_type": "stream",
          "name": "stdout",
          "text": [
            "1400000 6 1\n",
            "1395089.1\n"
          ]
        }
      ]
    },
    {
      "cell_type": "code",
      "source": [
        "def calcular_multa(distancia, velocidad_max, tiempo):\n",
        "    # Verificar si los parámetros son negativos\n",
        "    if distancia < 0 or velocidad_max < 0 or tiempo < 0:\n",
        "        return \"ERROR\"\n",
        "\n",
        "    # Calcular la velocidad media en km/h\n",
        "    velocidad_media = (distancia / 1000) / (tiempo / 3600)\n",
        "\n",
        "    # Calcular el porcentaje de exceso de velocidad\n",
        "    exceso = (velocidad_media - velocidad_max) / velocidad_max * 100\n",
        "\n",
        "    # Determinar el resultado según el exceso de velocidad\n",
        "    if exceso <= 0:\n",
        "        return \"OK\"\n",
        "    elif 0 < exceso < 20:\n",
        "        return \"MULTA\"\n",
        "    elif exceso >= 20:\n",
        "        return \"CURSO SENSIBILIZACION\"\n",
        "\n",
        "# Leer los parámetros de entrada (sin mensajes adicionales)\n",
        "distancia, velocidad_max, tiempo = map(int, input().split())\n",
        "\n",
        "# Llamar a la función con los valores proporcionados\n",
        "resultado = calcular_multa(distancia, velocidad_max, tiempo)\n",
        "\n",
        "# Mostrar el resultado\n",
        "print(resultado)\n",
        ""
      ],
      "metadata": {
        "id": "sMZe3QsXAjb7"
      },
      "execution_count": null,
      "outputs": []
    },
    {
      "cell_type": "code",
      "source": [
        "#complemento de reto 2\n",
        "def verificar_multas(distancia, velocidad_maxima, tiempo):\n",
        "    # Validar entradas\n",
        "    if distancia < 0 or velocidad_maxima < 0 or tiempo < 0:\n",
        "        return \"ERROR\"\n",
        "\n",
        "    # Calcular la velocidad media en Km/h\n",
        "    velocidad_media = (distancia / 1000) / (tiempo / 3600)  # Convertir a Km/h\n",
        "\n",
        "    # Condiciones de multa\n",
        "    if velocidad_media <= velocidad_maxima:\n",
        "        return \"OK\"\n",
        "    elif velocidad_media <= velocidad_maxima * 1.2:\n",
        "        return \"MULTA\"\n",
        "    else:\n",
        "        return \"CURSO SENSIBILIZACION\"\n",
        "\n",
        "# Lista para almacenar resultados\n",
        "resultados_finales = []\n",
        "\n",
        "# Bucle para pedir datos al usuario\n",
        "while True:\n",
        "    try:\n",
        "        # Solicitar entradas\n",
        "        entrada = input('Ingrese distancia en metros, velocidad máxima (Km/h), y tiempo en segundos separados por comas (o \"q\" para terminar): ')\n",
        "        if entrada.lower() == 'q':\n",
        "            break\n",
        "\n",
        "        # Procesar la entrada\n",
        "        distancia, velocidad_maxima, tiempo = map(float, entrada.split(','))\n",
        "\n",
        "        # Llamar a la función y almacenar el resultado\n",
        "        resultado = verificar_multas(distancia, velocidad_maxima, tiempo)\n",
        "        resultados_finales.append(resultado)\n",
        "        print(f'Resultado: {resultado}')\n",
        "\n",
        "    except ValueError:\n",
        "        print('Por favor, ingrese valores válidos.')\n",
        "\n",
        "# Mostrar todos los resultados al final\n",
        "print(\"Resultados finales:\", resultados_finales)"
      ],
      "metadata": {
        "id": "2FsEgQzCd1-_"
      },
      "execution_count": null,
      "outputs": []
    }
  ]
}
{
"cell_type": "code",
      "source": [
def calcular_multa(distancia, velocidad_maxima, tiempo):
    # Verificar si los parámetros ingresados por el usuario son negativos
    if distancia < 0 or velocidad_maxima < 0 or tiempo < 0:
        return "ERROR"

    # Calcular la velocidad promedio en km/h
    velocidad_promedio = (distancia / 1000) /( tiempo / 3600)

    # Definir el umbral de velocidad
    SPEED_LIMIT_MULTIPLIER = 1.2
    velocidad_maxima_con_20 = velocidad_maxima * SPEED_LIMIT_MULTIPLIER

    # Determinar el resultado basado en la velocidad promedio
    if velocidad_promedio <= velocidad_maxima:
        return "OK"
    elif velocidad_promedio <= velocidad_maxima_con_20:
        return "MULTA"
    else:
        return "CURSO DE SENSIBILIZACION"

# Función para manejar la entrada del usuario
def main():
    while True:
        try:
            entrada = input("Ingrese distancia, velocidad máxima y tiempo (o 'q' para salir): ")
            if entrada.lower() == 'q':
                break
            
            distancia, velocidad_maxima, tiempo = map(int, entrada.split())
            resultado = calcular_multa(distancia, velocidad_maxima, tiempo)
            print(resultado)
        except ValueError:
            print("ERROR: Entrada no válida. Asegúrese de ingresar tres números enteros.")

# Llamar a la función principal
if __name__ == "__main__":
    main()
]
}
